{
 "cells": [
  {
   "cell_type": "code",
   "execution_count": 10,
   "metadata": {},
   "outputs": [],
   "source": [
    "import numpy as np\n",
    "import pandas as pd\n",
    "from openai import OpenAI\n",
    "import yaml\n",
    "import json\n",
    "import os\n",
    "from dotenv import load_dotenv"
   ]
  },
  {
   "cell_type": "code",
   "execution_count": 62,
   "metadata": {},
   "outputs": [],
   "source": [
    "config = yaml.load(open('./configs/config.star.yaml', 'r'), Loader=yaml.FullLoader)"
   ]
  },
  {
   "cell_type": "code",
   "execution_count": 36,
   "metadata": {},
   "outputs": [],
   "source": [
    "load_dotenv()\n",
    "\n",
    "API_KEY = os.getenv('OPENAI_API_KEY')\n",
    "\n",
    "client = OpenAI(\n",
    "  api_key=API_KEY\n",
    ")"
   ]
  },
  {
   "cell_type": "code",
   "execution_count": 66,
   "metadata": {},
   "outputs": [],
   "source": [
    "def get_evaluation(content: str) -> dict:\n",
    "  \"\"\"\n",
    "  Evaluate if the provided answer follows the STAR methodology\n",
    "\n",
    "  Parameters:\n",
    "    content: {'question': the question, 'answer': the answer}\n",
    "\n",
    "  returns:\n",
    "    dict: {\"eval\": your detailed evaluation of the answer}\n",
    "  \"\"\"\n",
    "  response = client.chat.completions.create(\n",
    "    model=\"gpt-3.5-turbo-1106\",\n",
    "    temperature= 0,\n",
    "    response_format={ \"type\": \"json_object\" },\n",
    "    messages=[\n",
    "      {\"role\": \"system\", \"content\": config['prompts']['evaluation_prompt']},\n",
    "      {\"role\": \"user\", \"content\": content}\n",
    "    ]\n",
    "  )\n",
    "\n",
    "  return json.loads(response.choices[0].message.content)"
   ]
  },
  {
   "cell_type": "code",
   "execution_count": 46,
   "metadata": {},
   "outputs": [
    {
     "data": {
      "text/html": [
       "<div>\n",
       "<style scoped>\n",
       "    .dataframe tbody tr th:only-of-type {\n",
       "        vertical-align: middle;\n",
       "    }\n",
       "\n",
       "    .dataframe tbody tr th {\n",
       "        vertical-align: top;\n",
       "    }\n",
       "\n",
       "    .dataframe thead th {\n",
       "        text-align: right;\n",
       "    }\n",
       "</style>\n",
       "<table border=\"1\" class=\"dataframe\">\n",
       "  <thead>\n",
       "    <tr style=\"text-align: right;\">\n",
       "      <th></th>\n",
       "      <th>Question</th>\n",
       "    </tr>\n",
       "  </thead>\n",
       "  <tbody>\n",
       "    <tr>\n",
       "      <th>0</th>\n",
       "      <td>Tell me about a time when you had to work clos...</td>\n",
       "    </tr>\n",
       "    <tr>\n",
       "      <th>1</th>\n",
       "      <td>Can you give me an example of a time when you ...</td>\n",
       "    </tr>\n",
       "    <tr>\n",
       "      <th>2</th>\n",
       "      <td>Tell me about a time when you had to adjust yo...</td>\n",
       "    </tr>\n",
       "    <tr>\n",
       "      <th>3</th>\n",
       "      <td>Describe a project where you had to overcome u...</td>\n",
       "    </tr>\n",
       "    <tr>\n",
       "      <th>4</th>\n",
       "      <td>Can you give me an example of a time when you ...</td>\n",
       "    </tr>\n",
       "  </tbody>\n",
       "</table>\n",
       "</div>"
      ],
      "text/plain": [
       "                                            Question\n",
       "0  Tell me about a time when you had to work clos...\n",
       "1  Can you give me an example of a time when you ...\n",
       "2  Tell me about a time when you had to adjust yo...\n",
       "3  Describe a project where you had to overcome u...\n",
       "4  Can you give me an example of a time when you ..."
      ]
     },
     "execution_count": 46,
     "metadata": {},
     "output_type": "execute_result"
    }
   ],
   "source": [
    "df = pd.read_csv('./data/star_questions.csv')\n",
    "\n",
    "df.head()"
   ]
  },
  {
   "cell_type": "code",
   "execution_count": 72,
   "metadata": {},
   "outputs": [],
   "source": [
    "# random_question_idx = np.random.randint(0, 60)\n",
    "random_question_idx = 41\n",
    "\n",
    "data = df.iloc[random_question_idx]"
   ]
  },
  {
   "cell_type": "code",
   "execution_count": 73,
   "metadata": {},
   "outputs": [],
   "source": [
    "question = data['Question']"
   ]
  },
  {
   "cell_type": "code",
   "execution_count": 74,
   "metadata": {},
   "outputs": [
    {
     "data": {
      "text/plain": [
       "'Can you share an experience where you had to adapt to a new leadership style or management approach? How did you adjust to the change?'"
      ]
     },
     "execution_count": 74,
     "metadata": {},
     "output_type": "execute_result"
    }
   ],
   "source": [
    "question"
   ]
  },
  {
   "cell_type": "code",
   "execution_count": 68,
   "metadata": {},
   "outputs": [],
   "source": [
    "answer = \"\"\"\n",
    "    In my previous role at XYZ Company, there was a change in leadership, and a new manager was brought in to oversee our department. \n",
    "    The task at hand was to adapt to the new leadership style and management approach to ensure a smooth transition and maintain a positive work environment for the team.\n",
    "     took the initiative to understand the new manager's expectations and communication preferences. I scheduled one-on-one meetings to discuss their vision for the team, individual goals, and any specific changes they intended to implement\n",
    "\"\"\""
   ]
  },
  {
   "cell_type": "code",
   "execution_count": 69,
   "metadata": {},
   "outputs": [],
   "source": [
    "content = '{question: '+question+', answer: '+answer+'}'\n",
    "\n",
    "evaluation = get_evaluation(content)"
   ]
  },
  {
   "cell_type": "code",
   "execution_count": 70,
   "metadata": {},
   "outputs": [
    {
     "name": "stdout",
     "output_type": "stream",
     "text": [
      "{'eval': \"The candidate's answer does not fully follow the STAR methodology. They provided a clear Situation and Task by explaining the change in leadership and the need to adapt to a new management approach. However, the candidate's response lacks specific details about the Actions they took to adjust to the change and the Results of their efforts. To improve the answer, the candidate should provide more specific examples of the actions they took, such as specific changes they made in their work approach or how they communicated with the new manager. Additionally, they should include the results of their actions, such as how the team responded to the change or any positive outcomes that resulted from their efforts.\"}\n"
     ]
    }
   ],
   "source": [
    "print(evaluation)"
   ]
  }
 ],
 "metadata": {
  "kernelspec": {
   "display_name": "Python 3",
   "language": "python",
   "name": "python3"
  },
  "language_info": {
   "codemirror_mode": {
    "name": "ipython",
    "version": 3
   },
   "file_extension": ".py",
   "mimetype": "text/x-python",
   "name": "python",
   "nbconvert_exporter": "python",
   "pygments_lexer": "ipython3",
   "version": "3.11.4"
  }
 },
 "nbformat": 4,
 "nbformat_minor": 2
}

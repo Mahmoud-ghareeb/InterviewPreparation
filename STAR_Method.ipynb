{
 "cells": [
  {
   "cell_type": "code",
   "execution_count": 56,
   "metadata": {},
   "outputs": [],
   "source": [
    "from openai import OpenAI\n",
    "import yaml\n",
    "import os\n",
    "from dotenv import load_dotenv"
   ]
  },
  {
   "cell_type": "code",
   "execution_count": 48,
   "metadata": {},
   "outputs": [],
   "source": [
    "config = yaml.load(open('./configs/config.star.yaml', 'r'), Loader=yaml.FullLoader)"
   ]
  },
  {
   "cell_type": "code",
   "execution_count": 57,
   "metadata": {},
   "outputs": [],
   "source": [
    "load_dotenv()\n",
    "\n",
    "API_KEY = os.getenv('OPENAI_API_KEY')\n",
    "\n",
    "client = OpenAI(\n",
    "  api_key=API_KEY\n",
    ")"
   ]
  },
  {
   "cell_type": "code",
   "execution_count": 58,
   "metadata": {},
   "outputs": [
    {
     "name": "stdout",
     "output_type": "stream",
     "text": [
      "{\n",
      "  \"cat\": \"Teamwork questions\",\n",
      "  \"ques\": \"Can you provide an example of a time when you had to work closely with a team to achieve a common goal? What was your role and how did you contribute to the team's success?\"\n",
      "}\n",
      "  \n",
      "  \n"
     ]
    }
   ],
   "source": [
    "response = client.chat.completions.create(\n",
    "  model=\"gpt-3.5-turbo-1106\",\n",
    "  temperature= 0.5,\n",
    "  response_format={ \"type\": \"json_object\" },\n",
    "  messages=[\n",
    "    {\"role\": \"system\", \"content\": config['prompts']['initial_propmt']},\n",
    "    {\"role\": \"user\", \"content\": \"generate 5 questions\"}\n",
    "  ]\n",
    ")\n",
    "\n",
    "print(response.choices[0].message.content)"
   ]
  },
  {
   "cell_type": "code",
   "execution_count": 28,
   "metadata": {},
   "outputs": [
    {
     "name": "stdout",
     "output_type": "stream",
     "text": [
      "You are an Interviewer for data analyst interview your job is to ask behavioral questions Please, generate 5 behavioral questions, each question must measure one of the following categories:  \"Teamwork questions, Adaptability questions, Time management questions, Communication questions, Motivation and values questions\" you should return the questions as json with the following format {\"cat_1\": category of the question, \"ques_1\": the first generated question, ...} pleaase try to generate defferent questions each time\n"
     ]
    }
   ],
   "source": [
    "print(config['prompts']['initial_propmt'])"
   ]
  },
  {
   "cell_type": "code",
   "execution_count": 33,
   "metadata": {},
   "outputs": [
    {
     "name": "stdout",
     "output_type": "stream",
     "text": [
      "{\n",
      "  \"cat_1\": \"Teamwork questions\",\n",
      "  \"ques_1\": \"Can you describe a time when you had to work closely with a difficult team member? How did you handle the situation and what was the outcome?\"\n",
      "  ,\n",
      "  \"cat_2\": \"Adaptability questions\",\n",
      "  \"ques_2\": \"Tell me about a time when you had to quickly adapt to a significant change in the work environment. How did you handle it and what was the result?\"\n",
      "  ,\n",
      "  \"cat_3\": \"Time management questions\",\n",
      "  \"ques_3\": \"Describe a project that required you to juggle multiple tasks with competing deadlines. How did you prioritize and manage your time effectively?\"\n",
      "  ,\n",
      "  \"cat_4\": \"Communication questions\",\n",
      "  \"ques_4\": \"Can you give an example of a time when you had to communicate complex information to a non-technical audience? How did you ensure that they understood the information?\"\n",
      "  ,\n",
      "  \"cat_5\": \"Motivation and values questions\",\n",
      "  \"ques_5\": \"What motivates you to perform at your best in a team environment? Can you give an example of a time when your motivation positively influenced the team?\"\n",
      "}\n"
     ]
    }
   ],
   "source": [
    "response = client.chat.completions.create(\n",
    "  model=\"gpt-3.5-turbo-1106\",\n",
    "  temperature= 0.7,\n",
    "  response_format={ \"type\": \"json_object\" },\n",
    "  messages=[\n",
    "    {\"role\": \"system\", \"content\": config['prompts']['initial_propmt']},\n",
    "    {\"role\": \"user\", \"content\": \"generate 5 questions\"}\n",
    "  ]\n",
    ")\n",
    "\n",
    "print(response.choices[0].message.content)"
   ]
  },
  {
   "cell_type": "code",
   "execution_count": null,
   "metadata": {},
   "outputs": [],
   "source": []
  }
 ],
 "metadata": {
  "kernelspec": {
   "display_name": "Python 3",
   "language": "python",
   "name": "python3"
  },
  "language_info": {
   "codemirror_mode": {
    "name": "ipython",
    "version": 3
   },
   "file_extension": ".py",
   "mimetype": "text/x-python",
   "name": "python",
   "nbconvert_exporter": "python",
   "pygments_lexer": "ipython3",
   "version": "3.11.4"
  }
 },
 "nbformat": 4,
 "nbformat_minor": 2
}
